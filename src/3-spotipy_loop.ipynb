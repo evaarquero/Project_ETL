{
 "cells": [
  {
   "cell_type": "code",
   "execution_count": 1,
   "metadata": {},
   "outputs": [],
   "source": [
    "import json\n",
    "import requests as req\n",
    "import pandas as pd\n",
    "import os\n",
    "import logging\n",
    "import spotipy\n",
    "from spotipy.oauth2 import SpotifyClientCredentials\n",
    "from spotipy.oauth2 import SpotifyOAuth\n",
    "from webdriver_manager.chrome import ChromeDriverManager\n",
    "import requests as req\n",
    "from bs4 import BeautifulSoup as bs\n",
    "import pandas as pd\n",
    "import selenium\n",
    "import json \n",
    "from selenium import webdriver\n",
    "import os\n",
    "from selenium.webdriver.chrome.options import Options\n",
    "from selenium.webdriver.common.by import By\n",
    "import time\n",
    "import sys"
   ]
  },
  {
   "cell_type": "code",
   "execution_count": 212,
   "metadata": {},
   "outputs": [],
   "source": [
    "with open('secret2.txt') as f:\n",
    "    secret2 = f.readlines()"
   ]
  },
  {
   "cell_type": "code",
   "execution_count": 213,
   "metadata": {},
   "outputs": [],
   "source": [
    "sp = spotipy.Spotify(auth_manager=SpotifyClientCredentials(client_id=\"d663de0869444f16aa6d03d9c8ae4fe3\",\n",
    "                                                           client_secret=secret2))"
   ]
  },
  {
   "cell_type": "code",
   "execution_count": 3,
   "metadata": {},
   "outputs": [],
   "source": [
    "artists_spoti = pd.read_csv(r'/mnt/c/Users/Palmira/Desktop/Ironhack/Semana4/project_ETL/src/Output_data/artits_streamed_spoti.csv',encoding = \"ISO-8859-1\")"
   ]
  },
  {
   "cell_type": "code",
   "execution_count": 175,
   "metadata": {},
   "outputs": [
    {
     "data": {
      "text/html": [
       "<div>\n",
       "<style scoped>\n",
       "    .dataframe tbody tr th:only-of-type {\n",
       "        vertical-align: middle;\n",
       "    }\n",
       "\n",
       "    .dataframe tbody tr th {\n",
       "        vertical-align: top;\n",
       "    }\n",
       "\n",
       "    .dataframe thead th {\n",
       "        text-align: right;\n",
       "    }\n",
       "</style>\n",
       "<table border=\"1\" class=\"dataframe\">\n",
       "  <thead>\n",
       "    <tr style=\"text-align: right;\">\n",
       "      <th></th>\n",
       "      <th>genres</th>\n",
       "      <th>href</th>\n",
       "      <th>id</th>\n",
       "      <th>images</th>\n",
       "      <th>name</th>\n",
       "      <th>popularity</th>\n",
       "      <th>type</th>\n",
       "      <th>uri</th>\n",
       "      <th>external_urls.spotify</th>\n",
       "      <th>followers.href</th>\n",
       "      <th>followers.total</th>\n",
       "    </tr>\n",
       "  </thead>\n",
       "  <tbody>\n",
       "    <tr>\n",
       "      <th>0</th>\n",
       "      <td>[canadian hip hop, canadian pop, hip hop, rap,...</td>\n",
       "      <td>https://api.spotify.com/v1/artists/3TVXtAsR1In...</td>\n",
       "      <td>3TVXtAsR1Inumwj472S9r4</td>\n",
       "      <td>[{'height': 640, 'url': 'https://i.scdn.co/ima...</td>\n",
       "      <td>Drake</td>\n",
       "      <td>98</td>\n",
       "      <td>artist</td>\n",
       "      <td>spotify:artist:3TVXtAsR1Inumwj472S9r4</td>\n",
       "      <td>https://open.spotify.com/artist/3TVXtAsR1Inumw...</td>\n",
       "      <td>None</td>\n",
       "      <td>60756197</td>\n",
       "    </tr>\n",
       "  </tbody>\n",
       "</table>\n",
       "</div>"
      ],
      "text/plain": [
       "                                              genres  \\\n",
       "0  [canadian hip hop, canadian pop, hip hop, rap,...   \n",
       "\n",
       "                                                href                      id  \\\n",
       "0  https://api.spotify.com/v1/artists/3TVXtAsR1In...  3TVXtAsR1Inumwj472S9r4   \n",
       "\n",
       "                                              images   name  popularity  \\\n",
       "0  [{'height': 640, 'url': 'https://i.scdn.co/ima...  Drake          98   \n",
       "\n",
       "     type                                    uri  \\\n",
       "0  artist  spotify:artist:3TVXtAsR1Inumwj472S9r4   \n",
       "\n",
       "                               external_urls.spotify followers.href  \\\n",
       "0  https://open.spotify.com/artist/3TVXtAsR1Inumw...           None   \n",
       "\n",
       "   followers.total  \n",
       "0         60756197  "
      ]
     },
     "execution_count": 175,
     "metadata": {},
     "output_type": "execute_result"
    }
   ],
   "source": [
    "art1 = artists_spoti['artist'][0]\n",
    "spoti_info = sp.search(q='Drake',limit=10, type='artist')\n",
    "df = pd.DataFrame(spoti_info)\n",
    "df.explode('artists').reset_index(drop=False)\n",
    "df= pd.json_normalize(df.iloc[1].artists)\n",
    "df1 = df[:1]\n",
    "df1"
   ]
  },
  {
   "cell_type": "code",
   "execution_count": 198,
   "metadata": {},
   "outputs": [
    {
     "name": "stdout",
     "output_type": "stream",
     "text": [
      "CPU times: user 32.5 s, sys: 1.97 s, total: 34.5 s\n",
      "Wall time: 6min 44s\n"
     ]
    },
    {
     "data": {
      "text/html": [
       "<div>\n",
       "<style scoped>\n",
       "    .dataframe tbody tr th:only-of-type {\n",
       "        vertical-align: middle;\n",
       "    }\n",
       "\n",
       "    .dataframe tbody tr th {\n",
       "        vertical-align: top;\n",
       "    }\n",
       "\n",
       "    .dataframe thead th {\n",
       "        text-align: right;\n",
       "    }\n",
       "</style>\n",
       "<table border=\"1\" class=\"dataframe\">\n",
       "  <thead>\n",
       "    <tr style=\"text-align: right;\">\n",
       "      <th></th>\n",
       "      <th>id</th>\n",
       "      <th>name</th>\n",
       "      <th>popularity</th>\n",
       "      <th>type</th>\n",
       "      <th>uri</th>\n",
       "      <th>followers.total</th>\n",
       "      <th>genres</th>\n",
       "      <th>href</th>\n",
       "      <th>images</th>\n",
       "      <th>external_urls.spotify</th>\n",
       "      <th>followers.href</th>\n",
       "    </tr>\n",
       "  </thead>\n",
       "  <tbody>\n",
       "    <tr>\n",
       "      <th>3760</th>\n",
       "      <td>7jdFEYD2LTYjfwxOdlVjmc</td>\n",
       "      <td>KALEO</td>\n",
       "      <td>72</td>\n",
       "      <td>artist</td>\n",
       "      <td>spotify:artist:7jdFEYD2LTYjfwxOdlVjmc</td>\n",
       "      <td>1386598</td>\n",
       "      <td>[icelandic indie, icelandic rock, modern alter...</td>\n",
       "      <td>https://api.spotify.com/v1/artists/7jdFEYD2LTY...</td>\n",
       "      <td>[{'height': 640, 'url': 'https://i.scdn.co/ima...</td>\n",
       "      <td>https://open.spotify.com/artist/7jdFEYD2LTYjfw...</td>\n",
       "      <td>None</td>\n",
       "    </tr>\n",
       "    <tr>\n",
       "      <th>3584</th>\n",
       "      <td>63MQldklfxkjYDoUE4Tppz</td>\n",
       "      <td>M83</td>\n",
       "      <td>73</td>\n",
       "      <td>artist</td>\n",
       "      <td>spotify:artist:63MQldklfxkjYDoUE4Tppz</td>\n",
       "      <td>2012439</td>\n",
       "      <td>[french shoegaze, french synthpop, indietronic...</td>\n",
       "      <td>https://api.spotify.com/v1/artists/63MQldklfxk...</td>\n",
       "      <td>[{'height': 640, 'url': 'https://i.scdn.co/ima...</td>\n",
       "      <td>https://open.spotify.com/artist/63MQldklfxkjYD...</td>\n",
       "      <td>None</td>\n",
       "    </tr>\n",
       "    <tr>\n",
       "      <th>1708</th>\n",
       "      <td>5j4HeCoUlzhfWtjAfM1acR</td>\n",
       "      <td>Stromae</td>\n",
       "      <td>79</td>\n",
       "      <td>artist</td>\n",
       "      <td>spotify:artist:5j4HeCoUlzhfWtjAfM1acR</td>\n",
       "      <td>2088123</td>\n",
       "      <td>[belgian pop, g-house]</td>\n",
       "      <td>https://api.spotify.com/v1/artists/5j4HeCoUlzh...</td>\n",
       "      <td>[{'height': 640, 'url': 'https://i.scdn.co/ima...</td>\n",
       "      <td>https://open.spotify.com/artist/5j4HeCoUlzhfWt...</td>\n",
       "      <td>None</td>\n",
       "    </tr>\n",
       "  </tbody>\n",
       "</table>\n",
       "</div>"
      ],
      "text/plain": [
       "                          id     name  popularity    type  \\\n",
       "3760  7jdFEYD2LTYjfwxOdlVjmc    KALEO          72  artist   \n",
       "3584  63MQldklfxkjYDoUE4Tppz      M83          73  artist   \n",
       "1708  5j4HeCoUlzhfWtjAfM1acR  Stromae          79  artist   \n",
       "\n",
       "                                        uri  followers.total  \\\n",
       "3760  spotify:artist:7jdFEYD2LTYjfwxOdlVjmc          1386598   \n",
       "3584  spotify:artist:63MQldklfxkjYDoUE4Tppz          2012439   \n",
       "1708  spotify:artist:5j4HeCoUlzhfWtjAfM1acR          2088123   \n",
       "\n",
       "                                                 genres  \\\n",
       "3760  [icelandic indie, icelandic rock, modern alter...   \n",
       "3584  [french shoegaze, french synthpop, indietronic...   \n",
       "1708                             [belgian pop, g-house]   \n",
       "\n",
       "                                                   href  \\\n",
       "3760  https://api.spotify.com/v1/artists/7jdFEYD2LTY...   \n",
       "3584  https://api.spotify.com/v1/artists/63MQldklfxk...   \n",
       "1708  https://api.spotify.com/v1/artists/5j4HeCoUlzh...   \n",
       "\n",
       "                                                 images  \\\n",
       "3760  [{'height': 640, 'url': 'https://i.scdn.co/ima...   \n",
       "3584  [{'height': 640, 'url': 'https://i.scdn.co/ima...   \n",
       "1708  [{'height': 640, 'url': 'https://i.scdn.co/ima...   \n",
       "\n",
       "                                  external_urls.spotify followers.href  \n",
       "3760  https://open.spotify.com/artist/7jdFEYD2LTYjfw...           None  \n",
       "3584  https://open.spotify.com/artist/63MQldklfxkjYD...           None  \n",
       "1708  https://open.spotify.com/artist/5j4HeCoUlzhfWt...           None  "
      ]
     },
     "execution_count": 198,
     "metadata": {},
     "output_type": "execute_result"
    }
   ],
   "source": [
    "%%time\n",
    "lst = []\n",
    "for i in artists_spoti['artist']:\n",
    "    time.sleep(0.3)\n",
    "    spoti_info = sp.search(q=i,limit=10, type='artist') #getting info from Spoti\n",
    "    \n",
    "    df = pd.DataFrame(spoti_info)  #Dataframe with all info  \n",
    "    df.explode('artists').reset_index(drop=False)   #explode dataframe to see list of dataframes\n",
    "    df2 = pd.json_normalize(df.iloc[1].artists) #choosing the column for the dataframe.\n",
    "    \n",
    "    artist2 = df2[:1]     #getting first artist on the search.\n",
    "    \n",
    "    df1 = pd.concat([df1,artist2], ignore_index=True)                #concatenate/Append artists dataframes.\n",
    "        \n",
    "df1.sample(3)"
   ]
  },
  {
   "cell_type": "code",
   "execution_count": 209,
   "metadata": {},
   "outputs": [
    {
     "data": {
      "text/html": [
       "<div>\n",
       "<style scoped>\n",
       "    .dataframe tbody tr th:only-of-type {\n",
       "        vertical-align: middle;\n",
       "    }\n",
       "\n",
       "    .dataframe tbody tr th {\n",
       "        vertical-align: top;\n",
       "    }\n",
       "\n",
       "    .dataframe thead th {\n",
       "        text-align: right;\n",
       "    }\n",
       "</style>\n",
       "<table border=\"1\" class=\"dataframe\">\n",
       "  <thead>\n",
       "    <tr style=\"text-align: right;\">\n",
       "      <th></th>\n",
       "      <th>id</th>\n",
       "      <th>name</th>\n",
       "      <th>popularity</th>\n",
       "      <th>type</th>\n",
       "      <th>uri</th>\n",
       "      <th>followers.total</th>\n",
       "    </tr>\n",
       "  </thead>\n",
       "  <tbody>\n",
       "    <tr>\n",
       "      <th>0</th>\n",
       "      <td>3TVXtAsR1Inumwj472S9r4</td>\n",
       "      <td>Drake</td>\n",
       "      <td>98</td>\n",
       "      <td>artist</td>\n",
       "      <td>spotify:artist:3TVXtAsR1Inumwj472S9r4</td>\n",
       "      <td>60756197</td>\n",
       "    </tr>\n",
       "    <tr>\n",
       "      <th>1</th>\n",
       "      <td>6eUKZXaKkcviH0Ku9w2n3V</td>\n",
       "      <td>Ed Sheeran</td>\n",
       "      <td>96</td>\n",
       "      <td>artist</td>\n",
       "      <td>spotify:artist:6eUKZXaKkcviH0Ku9w2n3V</td>\n",
       "      <td>92183048</td>\n",
       "    </tr>\n",
       "    <tr>\n",
       "      <th>2</th>\n",
       "      <td>4q3ewBCX7sLwd24euuV69X</td>\n",
       "      <td>Bad Bunny</td>\n",
       "      <td>99</td>\n",
       "      <td>artist</td>\n",
       "      <td>spotify:artist:4q3ewBCX7sLwd24euuV69X</td>\n",
       "      <td>43398574</td>\n",
       "    </tr>\n",
       "  </tbody>\n",
       "</table>\n",
       "</div>"
      ],
      "text/plain": [
       "                       id        name  popularity    type  \\\n",
       "0  3TVXtAsR1Inumwj472S9r4       Drake          98  artist   \n",
       "1  6eUKZXaKkcviH0Ku9w2n3V  Ed Sheeran          96  artist   \n",
       "2  4q3ewBCX7sLwd24euuV69X   Bad Bunny          99  artist   \n",
       "\n",
       "                                     uri  followers.total  \n",
       "0  spotify:artist:3TVXtAsR1Inumwj472S9r4         60756197  \n",
       "1  spotify:artist:6eUKZXaKkcviH0Ku9w2n3V         92183048  \n",
       "2  spotify:artist:4q3ewBCX7sLwd24euuV69X         43398574  "
      ]
     },
     "execution_count": 209,
     "metadata": {},
     "output_type": "execute_result"
    }
   ],
   "source": [
    "df1.head(3)"
   ]
  },
  {
   "cell_type": "code",
   "execution_count": 199,
   "metadata": {
    "scrolled": true
   },
   "outputs": [],
   "source": [
    "df1.drop(axis=0, index=None, columns = [\"genres\",\"images\",\"href\", \"followers.href\", \"external_urls.spotify\"], inplace=True)\n"
   ]
  },
  {
   "cell_type": "code",
   "execution_count": 208,
   "metadata": {},
   "outputs": [],
   "source": [
    "df1.to_csv(r'/mnt/c/Users/Palmira/Desktop/Ironhack/Semana4/project_ETL/src/Output_data/spoti_info.csv')"
   ]
  },
  {
   "cell_type": "markdown",
   "metadata": {},
   "source": [
    "Concatenando por medio de listas:"
   ]
  },
  {
   "cell_type": "markdown",
   "metadata": {},
   "source": [
    "lst = []\n",
    "for i in artists_spoti['artist']:\n",
    "    time.sleep(0.5)\n",
    "    spoti_info = sp.search(q=i,limit=10, type='artist') #getting info from Spoti\n",
    "    \n",
    "    df = pd.DataFrame(spoti_info)  #Dataframe with all info  \n",
    "    df.explode('artists').reset_index(drop=False)   #explode dataframe to see list of dataframes\n",
    "    df2 = pd.json_normalize(df.iloc[1].artists) #choosing the column for the dataframe.\n",
    "    \n",
    "    artist2 = df2[:1]     #getting first artist on the search.\n",
    "\n",
    "    dic = {'name': artist2['name'][0],\n",
    "           'genres': artist2['genres'][0],\n",
    "          'id': artist2['id'][0],\n",
    "          'images':artist2['images'][0],\n",
    "          'type': artist2['type'][0],\n",
    "           'uri': artist2['uri'][0],\n",
    "           'followers.total':artist2['followers.total'][0]}\n",
    "    \n",
    "    lst.append(dic)   #concatenate/Append artists dataframes.\n",
    "    \n",
    "\n",
    "pd.DataFrame(lst)"
   ]
  }
 ],
 "metadata": {
  "kernelspec": {
   "display_name": "ironhack",
   "language": "python",
   "name": "ironhack"
  },
  "language_info": {
   "codemirror_mode": {
    "name": "ipython",
    "version": 3
   },
   "file_extension": ".py",
   "mimetype": "text/x-python",
   "name": "python",
   "nbconvert_exporter": "python",
   "pygments_lexer": "ipython3",
   "version": "3.8.5"
  }
 },
 "nbformat": 4,
 "nbformat_minor": 4
}
