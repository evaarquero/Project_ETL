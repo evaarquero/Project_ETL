{
 "cells": [
  {
   "cell_type": "code",
   "execution_count": 1,
   "metadata": {},
   "outputs": [],
   "source": [
    "from selenium import webdriver"
   ]
  },
  {
   "cell_type": "code",
   "execution_count": 72,
   "metadata": {},
   "outputs": [],
   "source": [
    "from webdriver_manager.chrome import ChromeDriverManager\n",
    "import requests as req\n",
    "from bs4 import BeautifulSoup as bs\n",
    "import pandas as pd\n",
    "import selenium\n",
    "import json \n",
    "from selenium import webdriver\n",
    "import os\n",
    "from selenium.webdriver.chrome.options import Options\n",
    "from selenium.webdriver.common.by import By\n",
    "import time\n",
    "import regex as re"
   ]
  },
  {
   "cell_type": "code",
   "execution_count": 3,
   "metadata": {},
   "outputs": [],
   "source": [
    "import requests as req\n",
    "\n",
    "from bs4 import BeautifulSoup as bs"
   ]
  },
  {
   "cell_type": "code",
   "execution_count": 4,
   "metadata": {},
   "outputs": [],
   "source": [
    "#driver configuration\n",
    "opciones=Options()\n",
    "\n",
    "opciones.add_experimental_option('excludeSwitches', ['enable-automation'])\n",
    "opciones.add_experimental_option('useAutomationExtension', False)\n",
    "opciones.headless=False    # si True, no aperece la ventana (headless=no visible)\n",
    "opciones.add_argument('--start-maximized')         # comienza maximizado\n",
    "#opciones.add_argument('user-data-dir=selenium')    # mantiene las cookies\n",
    "#opciones.add_extension('driver_folder/adblock.crx')       # adblocker\n",
    "opciones.add_argument('--incognito')\n",
    "opciones.add_argument(\"--no-sandbox\")\n",
    "opciones.add_argument(\"--disable-setuid-sandbox\") \n",
    "opciones.binary_location = r\"C:\\Program Files (x86)\\Google\\Chrome\\Application\\chrome.exe\""
   ]
  },
  {
   "cell_type": "code",
   "execution_count": 5,
   "metadata": {},
   "outputs": [],
   "source": [
    "driver = \"./chromedriver.exe\""
   ]
  },
  {
   "cell_type": "code",
   "execution_count": 6,
   "metadata": {
    "scrolled": true
   },
   "outputs": [
    {
     "name": "stderr",
     "output_type": "stream",
     "text": [
      "\n",
      "\n",
      "====== WebDriver manager ======\n",
      "Could not get version for google-chrome with the any command: google-chrome --version || google-chrome-stable --version\n",
      "Current google-chrome version is UNKNOWN\n",
      "Get LATEST chromedriver version for UNKNOWN google-chrome\n",
      "Driver [/home/lapalmi87/.wdm/drivers/chromedriver/linux64/98.0.4758.80/chromedriver] found in cache\n"
     ]
    }
   ],
   "source": [
    "PATH=ChromeDriverManager().install()"
   ]
  },
  {
   "cell_type": "code",
   "execution_count": 85,
   "metadata": {},
   "outputs": [],
   "source": [
    "artists_id = pd.read_csv(\"Output_data/artists_spoti.csv\",encoding = \"ISO-8859-1\")\n",
    "artists_id.drop_duplicates(inplace=True)\n",
    "artists_name = list(artists_id['name'])"
   ]
  },
  {
   "cell_type": "code",
   "execution_count": 82,
   "metadata": {},
   "outputs": [
    {
     "name": "stdout",
     "output_type": "stream",
     "text": [
      "CPU times: user 422 ms, sys: 15.6 ms, total: 438 ms\n",
      "Wall time: 656 ms\n"
     ]
    },
    {
     "data": {
      "text/plain": [
       "['2022-04-16T20:00:00-0700']"
      ]
     },
     "execution_count": 82,
     "metadata": {},
     "output_type": "execute_result"
    }
   ],
   "source": [
    "%%time\n",
    "url_try = 'https://www.songkick.com/search?page=1&per_page=10&type=upcoming&query=Adele'\n",
    "html = req.get(url_try).content\n",
    "soup = bs(html, 'html.parser')\n",
    "soup.find_all(\"li\" ,{\"class\":\"concert event\"})\n",
    "\n",
    "datetime = re.findall('\\d+-\\d+-\\d+\\w+:\\d+:\\d+-\\d+', str(soup.find(\"p\", {\"class\":\"date\"})))\n",
    "datetime"
   ]
  },
  {
   "cell_type": "code",
   "execution_count": 104,
   "metadata": {},
   "outputs": [],
   "source": [
    "url_songkick = 'https://www.songkick.com/search?page=1&per_page=10&type=upcoming&query='\n",
    "url_songkick2 = 'https://www.songkick.com/search?page=2&per_page=10&type=upcoming&query='\n",
    "busqueda = artists_name"
   ]
  },
  {
   "cell_type": "code",
   "execution_count": 127,
   "metadata": {},
   "outputs": [
    {
     "name": "stdout",
     "output_type": "stream",
     "text": [
      "CPU times: user 8min 51s, sys: 12.2 s, total: 9min 3s\n",
      "Wall time: 16min 50s\n"
     ]
    }
   ],
   "source": [
    "%%time\n",
    "concerts = []\n",
    "for i in artists_name:\n",
    "    html = req.get(url_songkick+i).content\n",
    "    soup = bs(html, 'html.parser')\n",
    "    for e in soup.find_all(\"li\" ,{\"class\":\"concert event\"}):\n",
    "        # bucle para los conciertos\n",
    "        location = e.find(\"p\", {\"class\":\"location\"}).text.strip() # location\n",
    "        date = e.find(\"p\", {\"class\":\"date\"}).text.strip() # date\n",
    "        concerts.append({\n",
    "                'artist': i,\n",
    "                'date': date,\n",
    "                'location': location            \n",
    "                })\n",
    "    html2 = req.get(url_songkick2+i).content\n",
    "    soup2 = bs(html2, 'html.parser')\n",
    "    for e in soup2.find_all(\"li\" ,{\"class\":\"concert event\"}):\n",
    "        # bucle para los conciertos\n",
    "        location = e.find(\"p\", {\"class\":\"location\"}).text.strip() # location\n",
    "        date = e.find(\"p\", {\"class\":\"date\"}).text.strip() # date\n",
    "        concerts.append({\n",
    "                'artist': i,\n",
    "                'date': date,\n",
    "                'location': location          \n",
    "               })\n",
    "\n",
    "artist_concerts = pd.DataFrame(concerts)   "
   ]
  },
  {
   "cell_type": "code",
   "execution_count": 106,
   "metadata": {},
   "outputs": [
    {
     "data": {
      "text/plain": [
       "(6002, 3)"
      ]
     },
     "execution_count": 106,
     "metadata": {},
     "output_type": "execute_result"
    }
   ],
   "source": [
    "artist_concerts.drop_duplicates(inplace=True)\n",
    "artist_concerts.shape"
   ]
  },
  {
   "cell_type": "code",
   "execution_count": 128,
   "metadata": {},
   "outputs": [],
   "source": [
    "artist_concerts.reset_index(inplace=True)"
   ]
  },
  {
   "cell_type": "code",
   "execution_count": 129,
   "metadata": {},
   "outputs": [],
   "source": [
    "artist_concerts.rename(columns={'index':'int_artist'},inplace=True)"
   ]
  },
  {
   "cell_type": "code",
   "execution_count": 131,
   "metadata": {},
   "outputs": [],
   "source": [
    "artist_concerts.to_csv('/mnt/c/Users/Palmira/Desktop/Ironhack/Semana4/project_ETL/src/Output_data/upcoming_concerts.csv', index=False)"
   ]
  },
  {
   "cell_type": "code",
   "execution_count": 132,
   "metadata": {},
   "outputs": [],
   "source": [
    "url_past = 'https://www.songkick.com/search?page=1&per_page=10&type=past&query='\n",
    "url_past2 = 'https://www.songkick.com/search?page=2&per_page=10&type=past&query='"
   ]
  },
  {
   "cell_type": "code",
   "execution_count": 133,
   "metadata": {},
   "outputs": [
    {
     "name": "stdout",
     "output_type": "stream",
     "text": [
      "CPU times: user 13min 38s, sys: 16.3 s, total: 13min 55s\n",
      "Wall time: 26min\n"
     ]
    }
   ],
   "source": [
    "%%time\n",
    "concerts_past = []\n",
    "for i in artists_name:\n",
    "    html = req.get(url_past+i).content\n",
    "    soup = bs(html, 'html.parser')\n",
    "\n",
    "    for e in soup.find_all(\"li\" ,{\"class\":\"concert event\"}):\n",
    "        # bucle para los conciertos\n",
    "        location = e.find(\"p\", {\"class\":\"location\"}).text.strip() # location\n",
    "        date = e.find(\"p\", {\"class\":\"date\"}).text.strip() # date\n",
    "        \n",
    "        concerts_past.append({\n",
    "                'artist': i,\n",
    "                'date': date,\n",
    "                'location': location\n",
    "                })\n",
    "        \n",
    "        \n",
    "    html2 = req.get(url_past2+i).content\n",
    "    soup2 = bs(html2, 'html.parser')\n",
    "    for e in soup2.find_all(\"li\" ,{\"class\":\"concert event\"}):\n",
    "        # bucle para los conciertos\n",
    "        location = e.find(\"p\", {\"class\":\"location\"}).text.strip() # location\n",
    "        date = e.find(\"p\", {\"class\":\"date\"}).text.strip() # date\n",
    "        \n",
    "        concerts_past.append({\n",
    "                'artist': i,\n",
    "                'date': date,\n",
    "                'location': location\n",
    "                })\n",
    "\n",
    "artist_concerts_past = pd.DataFrame(concerts_past)   "
   ]
  },
  {
   "cell_type": "code",
   "execution_count": 134,
   "metadata": {},
   "outputs": [],
   "source": [
    "artist_concerts_past.reset_index(inplace=True)\n",
    "artist_concerts_past.rename(columns={'index':'int_artist'},inplace=True)"
   ]
  },
  {
   "cell_type": "code",
   "execution_count": 135,
   "metadata": {},
   "outputs": [
    {
     "data": {
      "text/html": [
       "<div>\n",
       "<style scoped>\n",
       "    .dataframe tbody tr th:only-of-type {\n",
       "        vertical-align: middle;\n",
       "    }\n",
       "\n",
       "    .dataframe tbody tr th {\n",
       "        vertical-align: top;\n",
       "    }\n",
       "\n",
       "    .dataframe thead th {\n",
       "        text-align: right;\n",
       "    }\n",
       "</style>\n",
       "<table border=\"1\" class=\"dataframe\">\n",
       "  <thead>\n",
       "    <tr style=\"text-align: right;\">\n",
       "      <th></th>\n",
       "      <th>int_artist</th>\n",
       "      <th>artist</th>\n",
       "      <th>date</th>\n",
       "      <th>location</th>\n",
       "    </tr>\n",
       "  </thead>\n",
       "  <tbody>\n",
       "    <tr>\n",
       "      <th>7499</th>\n",
       "      <td>7499</td>\n",
       "      <td>Armin van Buuren</td>\n",
       "      <td>Wednesday 22 January 2020</td>\n",
       "      <td>House of Blues - Boston, Boston, MA, US</td>\n",
       "    </tr>\n",
       "    <tr>\n",
       "      <th>9073</th>\n",
       "      <td>9073</td>\n",
       "      <td>Hillsong Worship</td>\n",
       "      <td>Thursday 01 November 2018</td>\n",
       "      <td>Rolling Hills Community Church, Tualatin, OR, US</td>\n",
       "    </tr>\n",
       "    <tr>\n",
       "      <th>10330</th>\n",
       "      <td>10330</td>\n",
       "      <td>Sfera Ebbasta</td>\n",
       "      <td>Saturday 28 April 2018</td>\n",
       "      <td>Fabrique, Milan, Italy</td>\n",
       "    </tr>\n",
       "  </tbody>\n",
       "</table>\n",
       "</div>"
      ],
      "text/plain": [
       "       int_artist            artist                       date  \\\n",
       "7499         7499  Armin van Buuren  Wednesday 22 January 2020   \n",
       "9073         9073  Hillsong Worship  Thursday 01 November 2018   \n",
       "10330       10330     Sfera Ebbasta     Saturday 28 April 2018   \n",
       "\n",
       "                                               location  \n",
       "7499            House of Blues - Boston, Boston, MA, US  \n",
       "9073   Rolling Hills Community Church, Tualatin, OR, US  \n",
       "10330                            Fabrique, Milan, Italy  "
      ]
     },
     "execution_count": 135,
     "metadata": {},
     "output_type": "execute_result"
    }
   ],
   "source": [
    "artist_concerts_past.sample(3)"
   ]
  },
  {
   "cell_type": "code",
   "execution_count": 115,
   "metadata": {},
   "outputs": [],
   "source": [
    "#artist_concerts_past.drop(axis=0, index=None, columns = [\"level_0\",\"index\"], inplace=True)"
   ]
  },
  {
   "cell_type": "code",
   "execution_count": 136,
   "metadata": {},
   "outputs": [],
   "source": [
    "artist_concerts_past.to_csv('/mnt/c/Users/Palmira/Desktop/Ironhack/Semana4/project_ETL/src/Output_data/past_concerts.csv', index=False)"
   ]
  },
  {
   "cell_type": "markdown",
   "metadata": {},
   "source": [
    "artist_concerts_past['date'].str.extract('(?P<date>[\\s\\S]+) - (?P<message>[\\s\\S]+)', \n",
    "                                     expand=True)\n",
    "\n",
    "artist_concerts_past[['date','day']] = artist_concerts_past['date'].str.split('\\s+-\\s+', expand=True)\n",
    "for i in artist_concerts_past['date']:\n",
    "    re.finall('[a-zA-Z]+', i)"
   ]
  },
  {
   "cell_type": "markdown",
   "metadata": {},
   "source": [
    "## Aqui está lo de intentar entrar en spotify. "
   ]
  },
  {
   "cell_type": "markdown",
   "metadata": {},
   "source": [
    "#auth_manager=SpotifyClientCredentials(client_id=\"d663de0869444f16aa6d03d9c8ae4fe3\",client_secret=\"47d3341ba76c4cf9a666c575b1c77ff9\")"
   ]
  },
  {
   "cell_type": "markdown",
   "metadata": {},
   "source": [
    "#url = 'https://open.spotify.com/artist/7MPGCB854Qo4alYMOPkBka'\n",
    "#driver.get(url)\n",
    "#mostrar_mas=driver.find_element_by_css_selector('#main > div > div.Root__top-container > div.Root__main-view > main > div.os-host.os-host-foreign.os-theme-spotify.os-host-resize-disabled.os-host-scrollbar-horizontal-hidden.main-view-container__scroll-node.os-host-transition.os-host-overflow.os-host-overflow-y > div.os-padding > div > div > div.main-view-container__scroll-node-child > section > div > div.iB16LxoPzDeVZo8zPhPQ > div:nth-child(3) > div:nth-child(1) > div > div.uhUnBNQXv7eaTTjCiPnp.m2I9Af9uHAIhYwi4fyo2 > div > div > div:nth-child(2) > div:nth-child(1) > div > div.bfQ2S9bMXr_kJjqEfcwA > div')\n",
    "#mostrar_mas.click()"
   ]
  },
  {
   "cell_type": "markdown",
   "metadata": {},
   "source": [
    "#driver.find_element_by_css_selector('//*[@id=\"main\"]/div/div[2]/div[3]/main/div[2]/div[2]/div/div/div[2]/section/div/div[2]/div[3]/div[1]/div/div[1]/button/div').click"
   ]
  },
  {
   "cell_type": "markdown",
   "metadata": {},
   "source": [
    "#driver.quit()"
   ]
  },
  {
   "cell_type": "markdown",
   "metadata": {},
   "source": []
  },
  {
   "cell_type": "markdown",
   "metadata": {},
   "source": [
    "#url_songkick = 'https://api.songkick.com/api/3.0/search/artists.json?apikey={your API key}&query={artist}'"
   ]
  },
  {
   "cell_type": "markdown",
   "metadata": {},
   "source": [
    "URL='https://www.google.com/search?q='"
   ]
  },
  {
   "cell_type": "markdown",
   "metadata": {},
   "source": [
    "#busqueda='machine+learning+python'"
   ]
  },
  {
   "cell_type": "markdown",
   "metadata": {},
   "source": [
    "driver=webdriver.Chrome(PATH)  # driver de selenium con chrome\n",
    "\n",
    "driver.get(URL+busqueda)"
   ]
  }
 ],
 "metadata": {
  "kernelspec": {
   "display_name": "ironhack",
   "language": "python",
   "name": "ironhack"
  },
  "language_info": {
   "codemirror_mode": {
    "name": "ipython",
    "version": 3
   },
   "file_extension": ".py",
   "mimetype": "text/x-python",
   "name": "python",
   "nbconvert_exporter": "python",
   "pygments_lexer": "ipython3",
   "version": "3.8.5"
  }
 },
 "nbformat": 4,
 "nbformat_minor": 4
}
