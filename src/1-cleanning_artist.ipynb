{
 "cells": [
  {
   "cell_type": "code",
   "execution_count": 1,
   "metadata": {},
   "outputs": [],
   "source": [
    "import pandas as pd\n",
    "import numpy as np"
   ]
  },
  {
   "cell_type": "code",
   "execution_count": 14,
   "metadata": {},
   "outputs": [],
   "source": [
    "artists_top1 = pd.read_csv(r\"/mnt/c/Users/Palmira/Desktop/Ironhack/Semana4/project_ETL/data/10000-MTV-Music-Artists-page-1.csv\",encoding = \"ISO-8859-1\")\n",
    "artists_top2 = pd.read_csv(r\"/mnt/c/Users/Palmira/Desktop/Ironhack/Semana4/project_ETL/data/10000-MTV-Music-Artists-page-2.csv\",encoding = \"ISO-8859-1\")\n",
    "artists_top3 = pd.read_csv(r\"/mnt/c/Users/Palmira/Desktop/Ironhack/Semana4/project_ETL/data/10000-MTV-Music-Artists-page-3.csv\",encoding = \"ISO-8859-1\")\n",
    "artists_top4 = pd.read_csv(r\"/mnt/c/Users/Palmira/Desktop/Ironhack/Semana4/project_ETL/data/10000-MTV-Music-Artists-page-4.csv\",encoding = \"ISO-8859-1\")\n",
    "artists= [artists_top1,artists_top2,artists_top3,artists_top4]"
   ]
  },
  {
   "cell_type": "code",
   "execution_count": 15,
   "metadata": {},
   "outputs": [],
   "source": [
    "result = pd.concat(artists)"
   ]
  },
  {
   "cell_type": "code",
   "execution_count": 20,
   "metadata": {},
   "outputs": [
    {
     "data": {
      "text/html": [
       "<div>\n",
       "<style scoped>\n",
       "    .dataframe tbody tr th:only-of-type {\n",
       "        vertical-align: middle;\n",
       "    }\n",
       "\n",
       "    .dataframe tbody tr th {\n",
       "        vertical-align: top;\n",
       "    }\n",
       "\n",
       "    .dataframe thead th {\n",
       "        text-align: right;\n",
       "    }\n",
       "</style>\n",
       "<table border=\"1\" class=\"dataframe\">\n",
       "  <thead>\n",
       "    <tr style=\"text-align: right;\">\n",
       "      <th></th>\n",
       "      <th>artist</th>\n",
       "      <th>facebook</th>\n",
       "      <th>twitter</th>\n",
       "      <th>website</th>\n",
       "      <th>genre</th>\n",
       "      <th>mtv</th>\n",
       "    </tr>\n",
       "  </thead>\n",
       "  <tbody>\n",
       "    <tr>\n",
       "      <th>693</th>\n",
       "      <td>The Heat</td>\n",
       "      <td>https://www.facebook.com/groups/marysbaby81/51...</td>\n",
       "      <td>http://www.twitter.com/theheat201</td>\n",
       "      <td>NaN</td>\n",
       "      <td>Hip-Hop/Rap</td>\n",
       "      <td>http://www.mtv.com/artists/the-heat/biography</td>\n",
       "    </tr>\n",
       "    <tr>\n",
       "      <th>492</th>\n",
       "      <td>J. Whaley</td>\n",
       "      <td>NaN</td>\n",
       "      <td>http://twitter.com/JWhaleyMusic</td>\n",
       "      <td>http://www.JWhaleyMusic.com</td>\n",
       "      <td>R&amp;B/Soul</td>\n",
       "      <td>http://www.mtv.com/artists/j-whaley/biography</td>\n",
       "    </tr>\n",
       "    <tr>\n",
       "      <th>204</th>\n",
       "      <td>Gregory Whitehead</td>\n",
       "      <td>NaN</td>\n",
       "      <td>NaN</td>\n",
       "      <td>NaN</td>\n",
       "      <td>Classical</td>\n",
       "      <td>http://www.mtv.com/artists/gregory-whitehead/b...</td>\n",
       "    </tr>\n",
       "    <tr>\n",
       "      <th>1197</th>\n",
       "      <td>Lost Trybe of Hip Hop</td>\n",
       "      <td>NaN</td>\n",
       "      <td>NaN</td>\n",
       "      <td>NaN</td>\n",
       "      <td>NaN</td>\n",
       "      <td>http://www.mtv.com/artists/lost-trybe-of-hip-h...</td>\n",
       "    </tr>\n",
       "    <tr>\n",
       "      <th>987</th>\n",
       "      <td>Translator</td>\n",
       "      <td>http://www.facebook.com/107397232647072</td>\n",
       "      <td>NaN</td>\n",
       "      <td>NaN</td>\n",
       "      <td>Rock</td>\n",
       "      <td>http://www.mtv.com/artists/translator/biography</td>\n",
       "    </tr>\n",
       "    <tr>\n",
       "      <th>850</th>\n",
       "      <td>William Fitzsimmons</td>\n",
       "      <td>http://www.facebook.com/8719038675</td>\n",
       "      <td>http://www.twitter.com/wfitzsimmons</td>\n",
       "      <td>http://www.williamfitzsimmons.com/</td>\n",
       "      <td>Contemporary Folk</td>\n",
       "      <td>http://www.mtv.com/artists/william-fitzsimmons...</td>\n",
       "    </tr>\n",
       "    <tr>\n",
       "      <th>1233</th>\n",
       "      <td>Mary Kloepper</td>\n",
       "      <td>NaN</td>\n",
       "      <td>NaN</td>\n",
       "      <td>NaN</td>\n",
       "      <td>NaN</td>\n",
       "      <td>http://www.mtv.com/artists/mary-kloepper/biogr...</td>\n",
       "    </tr>\n",
       "  </tbody>\n",
       "</table>\n",
       "</div>"
      ],
      "text/plain": [
       "                       artist  \\\n",
       "693                 The Heat    \n",
       "492                J. Whaley    \n",
       "204        Gregory Whitehead    \n",
       "1197   Lost Trybe of Hip Hop    \n",
       "987               Translator    \n",
       "850      William Fitzsimmons    \n",
       "1233           Mary Kloepper    \n",
       "\n",
       "                                               facebook  \\\n",
       "693   https://www.facebook.com/groups/marysbaby81/51...   \n",
       "492                                                 NaN   \n",
       "204                                                 NaN   \n",
       "1197                                                NaN   \n",
       "987             http://www.facebook.com/107397232647072   \n",
       "850                  http://www.facebook.com/8719038675   \n",
       "1233                                                NaN   \n",
       "\n",
       "                                  twitter                             website  \\\n",
       "693     http://www.twitter.com/theheat201                                 NaN   \n",
       "492       http://twitter.com/JWhaleyMusic         http://www.JWhaleyMusic.com   \n",
       "204                                   NaN                                 NaN   \n",
       "1197                                  NaN                                 NaN   \n",
       "987                                   NaN                                 NaN   \n",
       "850   http://www.twitter.com/wfitzsimmons  http://www.williamfitzsimmons.com/   \n",
       "1233                                  NaN                                 NaN   \n",
       "\n",
       "                  genre                                                mtv  \n",
       "693         Hip-Hop/Rap      http://www.mtv.com/artists/the-heat/biography  \n",
       "492            R&B/Soul      http://www.mtv.com/artists/j-whaley/biography  \n",
       "204           Classical  http://www.mtv.com/artists/gregory-whitehead/b...  \n",
       "1197                NaN  http://www.mtv.com/artists/lost-trybe-of-hip-h...  \n",
       "987                Rock    http://www.mtv.com/artists/translator/biography  \n",
       "850   Contemporary Folk  http://www.mtv.com/artists/william-fitzsimmons...  \n",
       "1233                NaN  http://www.mtv.com/artists/mary-kloepper/biogr...  "
      ]
     },
     "execution_count": 20,
     "metadata": {},
     "output_type": "execute_result"
    }
   ],
   "source": [
    "result.rename(columns={'name': 'artist'}, inplace=True)\n",
    "result.sample(7)"
   ]
  },
  {
   "cell_type": "code",
   "execution_count": 35,
   "metadata": {},
   "outputs": [],
   "source": [
    "result.index.set_names(['ranking_MTV'], inplace=True)"
   ]
  },
  {
   "cell_type": "code",
   "execution_count": 36,
   "metadata": {},
   "outputs": [
    {
     "data": {
      "text/plain": [
       "(8336, 6)"
      ]
     },
     "execution_count": 36,
     "metadata": {},
     "output_type": "execute_result"
    }
   ],
   "source": [
    "result.dropna(subset=[\"artist\"], inplace = True)\n",
    "result.shape"
   ]
  },
  {
   "cell_type": "code",
   "execution_count": 40,
   "metadata": {},
   "outputs": [
    {
     "data": {
      "text/plain": [
       "(8309, 6)"
      ]
     },
     "execution_count": 40,
     "metadata": {},
     "output_type": "execute_result"
    }
   ],
   "source": [
    "result.drop_duplicates(subset=[\"artist\"], inplace=True)\n",
    "result.shape"
   ]
  },
  {
   "cell_type": "code",
   "execution_count": 41,
   "metadata": {},
   "outputs": [],
   "source": [
    "result.to_csv(r'/mnt/c/Users/Palmira/Desktop/Ironhack/Semana4/project_ETL/src/Output_data/artits_MTV.csv', index=False)"
   ]
  },
  {
   "cell_type": "code",
   "execution_count": null,
   "metadata": {},
   "outputs": [],
   "source": []
  }
 ],
 "metadata": {
  "kernelspec": {
   "display_name": "ironhack",
   "language": "python",
   "name": "ironhack"
  },
  "language_info": {
   "codemirror_mode": {
    "name": "ipython",
    "version": 3
   },
   "file_extension": ".py",
   "mimetype": "text/x-python",
   "name": "python",
   "nbconvert_exporter": "python",
   "pygments_lexer": "ipython3",
   "version": "3.8.5"
  }
 },
 "nbformat": 4,
 "nbformat_minor": 4
}
